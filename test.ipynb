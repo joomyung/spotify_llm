{
 "cells": [
  {
   "cell_type": "markdown",
   "metadata": {},
   "source": [
    "# Explore Spotify API\n",
    "- https://developer.spotify.com/documentation/web-api"
   ]
  },
  {
   "cell_type": "markdown",
   "metadata": {},
   "source": [
    "## 1. Get track names of a artist"
   ]
  },
  {
   "cell_type": "code",
   "execution_count": 1,
   "metadata": {},
   "outputs": [],
   "source": [
    "from config import client_id_key, client_secret_key"
   ]
  },
  {
   "cell_type": "code",
   "execution_count": 2,
   "metadata": {},
   "outputs": [
    {
     "name": "stdout",
     "output_type": "stream",
     "text": [
      "Yellow\n",
      "Viva La Vida\n",
      "Something Just Like This\n",
      "Sparks\n",
      "A Sky Full of Stars\n",
      "The Scientist\n",
      "Paradise\n",
      "My Universe\n",
      "Fix You\n",
      "Hymn for the Weekend\n"
     ]
    }
   ],
   "source": [
    "import spotipy\n",
    "from spotipy.oauth2 import SpotifyClientCredentials\n",
    "\n",
    "# Get your Spotify API key from https://developer.spotify.com/console/\n",
    "client_id = client_id_key\n",
    "client_secret = client_secret_key\n",
    "\n",
    "# Create a Spotify client object\n",
    "client_credentials_manager = SpotifyClientCredentials(client_id=client_id, client_secret=client_secret)\n",
    "sp = spotipy.Spotify(client_credentials_manager=client_credentials_manager)\n",
    "\n",
    "# Get Coldplay's Spotify artist ID\n",
    "artist_id = '4gzpq5DPGxSnKTe4SA8HAU'\n",
    "\n",
    "# Get the top 10 tracks for Coldplay in the United States\n",
    "top_tracks = sp.artist_top_tracks(artist_id, country='US')\n",
    "\n",
    "# Print the track names\n",
    "for track in top_tracks['tracks']:\n",
    "    print(track['name'])"
   ]
  },
  {
   "cell_type": "markdown",
   "metadata": {},
   "source": [
    "## 2. Get random music data\n",
    "- https://medium.com/@maxtingle/getting-started-with-spotifys-api-spotipy-197c3dc6353b    "
   ]
  },
  {
   "cell_type": "code",
   "execution_count": 3,
   "metadata": {},
   "outputs": [
    {
     "name": "stdout",
     "output_type": "stream",
     "text": [
      "(1000, 4)\n"
     ]
    },
    {
     "data": {
      "text/html": [
       "<div>\n",
       "<style scoped>\n",
       "    .dataframe tbody tr th:only-of-type {\n",
       "        vertical-align: middle;\n",
       "    }\n",
       "\n",
       "    .dataframe tbody tr th {\n",
       "        vertical-align: top;\n",
       "    }\n",
       "\n",
       "    .dataframe thead th {\n",
       "        text-align: right;\n",
       "    }\n",
       "</style>\n",
       "<table border=\"1\" class=\"dataframe\">\n",
       "  <thead>\n",
       "    <tr style=\"text-align: right;\">\n",
       "      <th></th>\n",
       "      <th>artist_name</th>\n",
       "      <th>track_name</th>\n",
       "      <th>track_id</th>\n",
       "      <th>popularity</th>\n",
       "    </tr>\n",
       "  </thead>\n",
       "  <tbody>\n",
       "    <tr>\n",
       "      <th>0</th>\n",
       "      <td>girl in red</td>\n",
       "      <td>we fell in love in october</td>\n",
       "      <td>6IPwKM3fUUzlElbvKw2sKl</td>\n",
       "      <td>91</td>\n",
       "    </tr>\n",
       "    <tr>\n",
       "      <th>1</th>\n",
       "      <td>Morgan Wallen</td>\n",
       "      <td>Whiskey Glasses</td>\n",
       "      <td>6foY66mWZN0pSRjZ408c00</td>\n",
       "      <td>84</td>\n",
       "    </tr>\n",
       "    <tr>\n",
       "      <th>2</th>\n",
       "      <td>Morgan Wallen</td>\n",
       "      <td>Chasin' You</td>\n",
       "      <td>5MwynWK9s4hlyKHqhkNn4A</td>\n",
       "      <td>83</td>\n",
       "    </tr>\n",
       "    <tr>\n",
       "      <th>3</th>\n",
       "      <td>Lil Baby</td>\n",
       "      <td>Yes Indeed</td>\n",
       "      <td>6vN77lE9LK6HP2DewaN6HZ</td>\n",
       "      <td>83</td>\n",
       "    </tr>\n",
       "    <tr>\n",
       "      <th>4</th>\n",
       "      <td>Lil Baby</td>\n",
       "      <td>Drip Too Hard (Lil Baby &amp; Gunna)</td>\n",
       "      <td>78QR3Wp35dqAhFEc2qAGjE</td>\n",
       "      <td>86</td>\n",
       "    </tr>\n",
       "    <tr>\n",
       "      <th>5</th>\n",
       "      <td>TV Girl</td>\n",
       "      <td>Blue Hair</td>\n",
       "      <td>39sDitIeCMrVX2QyXHY46t</td>\n",
       "      <td>86</td>\n",
       "    </tr>\n",
       "    <tr>\n",
       "      <th>6</th>\n",
       "      <td>21 Savage</td>\n",
       "      <td>ball w/o you</td>\n",
       "      <td>50a8bKqlwDEqeiEknrzkTO</td>\n",
       "      <td>84</td>\n",
       "    </tr>\n",
       "    <tr>\n",
       "      <th>7</th>\n",
       "      <td>Luke Combs</td>\n",
       "      <td>Beautiful Crazy</td>\n",
       "      <td>2rxQMGVafnNaRaXlRMWPde</td>\n",
       "      <td>83</td>\n",
       "    </tr>\n",
       "    <tr>\n",
       "      <th>8</th>\n",
       "      <td>Lil Baby</td>\n",
       "      <td>Pure Cocaine</td>\n",
       "      <td>577YBGuskWkVDCxZrLRB4v</td>\n",
       "      <td>84</td>\n",
       "    </tr>\n",
       "    <tr>\n",
       "      <th>9</th>\n",
       "      <td>Men I Trust</td>\n",
       "      <td>Show Me How</td>\n",
       "      <td>01TyFEZu6mHbffsVfxgrFn</td>\n",
       "      <td>85</td>\n",
       "    </tr>\n",
       "  </tbody>\n",
       "</table>\n",
       "</div>"
      ],
      "text/plain": [
       "     artist_name                        track_name                track_id  \\\n",
       "0    girl in red        we fell in love in october  6IPwKM3fUUzlElbvKw2sKl   \n",
       "1  Morgan Wallen                   Whiskey Glasses  6foY66mWZN0pSRjZ408c00   \n",
       "2  Morgan Wallen                       Chasin' You  5MwynWK9s4hlyKHqhkNn4A   \n",
       "3       Lil Baby                        Yes Indeed  6vN77lE9LK6HP2DewaN6HZ   \n",
       "4       Lil Baby  Drip Too Hard (Lil Baby & Gunna)  78QR3Wp35dqAhFEc2qAGjE   \n",
       "5        TV Girl                         Blue Hair  39sDitIeCMrVX2QyXHY46t   \n",
       "6      21 Savage                      ball w/o you  50a8bKqlwDEqeiEknrzkTO   \n",
       "7     Luke Combs                   Beautiful Crazy  2rxQMGVafnNaRaXlRMWPde   \n",
       "8       Lil Baby                      Pure Cocaine  577YBGuskWkVDCxZrLRB4v   \n",
       "9    Men I Trust                       Show Me How  01TyFEZu6mHbffsVfxgrFn   \n",
       "\n",
       "   popularity  \n",
       "0          91  \n",
       "1          84  \n",
       "2          83  \n",
       "3          83  \n",
       "4          86  \n",
       "5          86  \n",
       "6          84  \n",
       "7          83  \n",
       "8          84  \n",
       "9          85  "
      ]
     },
     "execution_count": 3,
     "metadata": {},
     "output_type": "execute_result"
    }
   ],
   "source": [
    "import spotipy\n",
    "from spotipy.oauth2 import SpotifyClientCredentials\n",
    "\n",
    "# Get your Spotify API key from https://developer.spotify.com/console/\n",
    "client_id = client_id_key\n",
    "client_secret = client_secret_key\n",
    "\n",
    "# Create a Spotify client object\n",
    "client_credentials_manager = SpotifyClientCredentials(client_id=client_id, client_secret=client_secret)\n",
    "sp = spotipy.Spotify(client_credentials_manager=client_credentials_manager)\n",
    "\n",
    "artist_name = []\n",
    "track_name = []\n",
    "popularity = []\n",
    "track_id = []\n",
    "for i in range(0,1000,50):\n",
    "    track_results = sp.search(q='year:2018', type='track', limit=50,offset=i)\n",
    "    for i, t in enumerate(track_results['tracks']['items']):\n",
    "        artist_name.append(t['artists'][0]['name'])\n",
    "        track_name.append(t['name'])\n",
    "        track_id.append(t['id'])\n",
    "        popularity.append(t['popularity'])\n",
    "\n",
    "import pandas as pd\n",
    "track_dataframe = pd.DataFrame({'artist_name' : artist_name, 'track_name' : track_name, 'track_id' : track_id, 'popularity' : popularity})\n",
    "print(track_dataframe.shape)\n",
    "\n",
    "track_dataframe.head(10)"
   ]
  },
  {
   "cell_type": "markdown",
   "metadata": {},
   "source": [
    "## 3. Get music data from a playlist\n",
    "- https://towardsdatascience.com/extracting-song-data-from-the-spotify-api-using-python-b1e79388d50"
   ]
  },
  {
   "cell_type": "code",
   "execution_count": 4,
   "metadata": {},
   "outputs": [
    {
     "name": "stdout",
     "output_type": "stream",
     "text": [
      "CAKE ITZY 70 ['k-pop', 'k-pop girl group']\n",
      "Spicy aespa 71 ['k-pop girl group']\n",
      "Better Things aespa 71 ['k-pop girl group']\n",
      "Salty & Sweet aespa 71 ['k-pop girl group']\n",
      "New Emotions INFINITE 49 ['k-pop', 'k-pop boy group']\n",
      "ETA NewJeans 81 ['k-pop', 'k-pop girl group']\n",
      "ASAP NewJeans 81 ['k-pop', 'k-pop girl group']\n",
      "Peaches (feat. Daniel Caesar & Giveon) Justin Bieber 86 ['canadian pop', 'pop']\n",
      "Shhh KISS OF LIFE 57 ['k-pop girl group']\n",
      "Underwater KWON EUNBI 46 []\n",
      "STAY (with Justin Bieber) The Kid LAROI 79 ['australian hip hop']\n",
      "Sorry Justin Bieber 86 ['canadian pop', 'pop']\n",
      "Candy NCT DREAM 70 ['k-pop boy group']\n",
      "SNEAKERS ITZY 70 ['k-pop', 'k-pop girl group']\n",
      "FEARLESS (2023 Ver.) LE SSERAFIM 74 ['k-pop girl group']\n",
      "TGIF XG 67 ['k-pop girl group']\n",
      "SHOOTING STAR XG 67 ['k-pop girl group']\n",
      "NEW DANCE XG 67 ['k-pop girl group']\n",
      "Seven (feat. Latto) (Explicit Ver.) Jung Kook 88 ['k-pop']\n",
      "Shoong! (feat. LISA of BLACKPINK) TAEYANG 63 ['k-pop', 'korean r&b']\n"
     ]
    }
   ],
   "source": [
    "import spotipy\n",
    "from spotipy.oauth2 import SpotifyClientCredentials\n",
    "\n",
    "# Get your Spotify API key from https://developer.spotify.com/console/\n",
    "client_id = client_id_key\n",
    "client_secret = client_secret_key\n",
    "\n",
    "# Create a Spotify client object\n",
    "client_credentials_manager = SpotifyClientCredentials(client_id=client_id, client_secret=client_secret)\n",
    "sp = spotipy.Spotify(client_credentials_manager=client_credentials_manager)\n",
    "\n",
    "\n",
    "playlist_link = \"https://open.spotify.com/playlist/54bpk5QB6hqiKRtkYG5hde\"\n",
    "playlist_URI = playlist_link.split(\"/\")[-1].split(\"?\")[0]\n",
    "track_uris = [x[\"track\"][\"uri\"] for x in sp.playlist_tracks(playlist_URI)[\"items\"]]\n",
    "\n",
    "for track in sp.playlist_tracks(playlist_URI)[\"items\"]:\n",
    "    #URI\n",
    "    track_uri = track[\"track\"][\"uri\"]\n",
    "    \n",
    "    #Track name\n",
    "    track_name = track[\"track\"][\"name\"]\n",
    "    \n",
    "    #Main Artist\n",
    "    artist_uri = track[\"track\"][\"artists\"][0][\"uri\"]\n",
    "    artist_info = sp.artist(artist_uri)\n",
    "    \n",
    "    #Name, popularity, genre\n",
    "    artist_name = track[\"track\"][\"artists\"][0][\"name\"]\n",
    "    artist_pop = artist_info[\"popularity\"]\n",
    "    artist_genres = artist_info[\"genres\"]\n",
    "    \n",
    "    #Album\n",
    "    album = track[\"track\"][\"album\"][\"name\"]\n",
    "    \n",
    "    #Popularity of the track\n",
    "    track_pop = track[\"track\"][\"popularity\"]\n",
    "\n",
    "    print(track_name, artist_name, artist_pop, artist_genres)\n",
    "\n"
   ]
  },
  {
   "cell_type": "code",
   "execution_count": 5,
   "metadata": {},
   "outputs": [
    {
     "data": {
      "text/plain": [
       "{'danceability': 0.763,\n",
       " 'energy': 0.699,\n",
       " 'key': 11,\n",
       " 'loudness': -6.118,\n",
       " 'mode': 0,\n",
       " 'speechiness': 0.0554,\n",
       " 'acousticness': 0.00789,\n",
       " 'instrumentalness': 0,\n",
       " 'liveness': 0.409,\n",
       " 'valence': 0.255,\n",
       " 'tempo': 110.01,\n",
       " 'type': 'audio_features',\n",
       " 'id': '5HrIcZOo1DysX53qDRlRnt',\n",
       " 'uri': 'spotify:track:5HrIcZOo1DysX53qDRlRnt',\n",
       " 'track_href': 'https://api.spotify.com/v1/tracks/5HrIcZOo1DysX53qDRlRnt',\n",
       " 'analysis_url': 'https://api.spotify.com/v1/audio-analysis/5HrIcZOo1DysX53qDRlRnt',\n",
       " 'duration_ms': 205101,\n",
       " 'time_signature': 4}"
      ]
     },
     "execution_count": 5,
     "metadata": {},
     "output_type": "execute_result"
    }
   ],
   "source": [
    "sp.audio_features(track_uri)[0]"
   ]
  },
  {
   "cell_type": "code",
   "execution_count": null,
   "metadata": {},
   "outputs": [],
   "source": []
  }
 ],
 "metadata": {
  "kernelspec": {
   "display_name": "spotify",
   "language": "python",
   "name": "python3"
  },
  "language_info": {
   "codemirror_mode": {
    "name": "ipython",
    "version": 3
   },
   "file_extension": ".py",
   "mimetype": "text/x-python",
   "name": "python",
   "nbconvert_exporter": "python",
   "pygments_lexer": "ipython3",
   "version": "3.11.5"
  }
 },
 "nbformat": 4,
 "nbformat_minor": 2
}
